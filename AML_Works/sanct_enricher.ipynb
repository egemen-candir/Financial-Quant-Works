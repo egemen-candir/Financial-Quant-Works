{
 "cells": [
  {
   "cell_type": "code",
   "execution_count": null,
   "id": "bb008669",
   "metadata": {},
   "outputs": [
    {
     "name": "stdout",
     "output_type": "stream",
     "text": [
      "Sanctions Exposure Summary:\n",
      "sanctions_exposure_flag\n",
      "0    3915626\n",
      "1    1162719\n",
      "Name: count, dtype: int64\n"
     ]
    }
   ],
   "source": [
    "import pandas as pd\n",
    "\n",
    "transactions_file = '/mnt/c/Users/kecan/Documents/HI-Small_Trans.csv' # Transactions file\n",
    "sdn_file = 'sdn.csv'  # Sanctions list file\n",
    "\n",
    "transactions_df = pd.read_csv(transactions_file)\n",
    "\n",
    "# Convert From Bank and To Bank to string for consistent text matching\n",
    "transactions_df['From Bank Clean'] = transactions_df['From Bank'].astype(str).str.upper().str.strip()\n",
    "transactions_df['To Bank Clean'] = transactions_df['To Bank'].astype(str).str.upper().str.strip()\n",
    "\n",
    "# Load and Clean SDN List\n",
    "sdn_df = pd.read_csv(sdn_file, header=None, encoding='latin1')\n",
    "sdn_names = set(sdn_df[0].astype(str).str.upper().str.strip())\n",
    "\n",
    "# Match Sanctions\n",
    "transactions_df['from_bank_sanctioned'] = transactions_df['From Bank Clean'].isin(sdn_names).astype(int)\n",
    "transactions_df['to_bank_sanctioned'] = transactions_df['To Bank Clean'].isin(sdn_names).astype(int)\n",
    "\n",
    "# Combine both flags\n",
    "transactions_df['sanctions_exposure_flag'] = transactions_df[['from_bank_sanctioned', 'to_bank_sanctioned']].max(axis=1)\n",
    "\n",
    "# Save Enriched File\n",
    "transactions_df.to_csv('HI-Small_Trans_with_sanctions.csv', index=False)\n",
    "\n",
    "# Summary Output \n",
    "print(\"Sanctions Exposure Distribution:\")\n",
    "print(transactions_df['sanctions_exposure_flag'].value_counts())\n",
    "\n",
    "print(\"\\nLaundering Rate by Sanctions Exposure:\")\n",
    "print(transactions_df.groupby('sanctions_exposure_flag')['Is Laundering'].mean())\n"
   ]
  }
 ],
 "metadata": {
  "kernelspec": {
   "display_name": "tf-projects",
   "language": "python",
   "name": "python3"
  },
  "language_info": {
   "codemirror_mode": {
    "name": "ipython",
    "version": 3
   },
   "file_extension": ".py",
   "mimetype": "text/x-python",
   "name": "python",
   "nbconvert_exporter": "python",
   "pygments_lexer": "ipython3",
   "version": "3.12.3"
  }
 },
 "nbformat": 4,
 "nbformat_minor": 5
}
